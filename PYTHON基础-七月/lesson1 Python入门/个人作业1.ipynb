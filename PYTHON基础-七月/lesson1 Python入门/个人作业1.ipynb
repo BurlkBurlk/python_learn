{
 "cells": [
  {
   "cell_type": "markdown",
   "metadata": {},
   "source": [
    "1.\n",
    "求从1到100的数字中所有能既能被3整除，又能被5整合的数字有哪些。"
   ]
  },
  {
   "cell_type": "code",
   "execution_count": 1,
   "metadata": {
    "scrolled": true
   },
   "outputs": [
    {
     "name": "stdout",
     "output_type": "stream",
     "text": [
      "0\n",
      "15\n",
      "30\n",
      "45\n",
      "60\n",
      "75\n",
      "90\n"
     ]
    },
    {
     "data": {
      "text/plain": [
       "'\\n错误总结：1.\":\"的使用 2.缩进\\n'"
      ]
     },
     "execution_count": 1,
     "metadata": {},
     "output_type": "execute_result"
    }
   ],
   "source": [
    "for i in range(100):\n",
    "    if (i%3==0) and (i%5==0):\n",
    "        print(i)\n",
    "'''\n",
    "错误总结：1.\":\"的使用 2.缩进\n",
    "'''"
   ]
  },
  {
   "cell_type": "markdown",
   "metadata": {},
   "source": [
    "2.\n",
    "输入一个字符串返回满足以下条件的字符串\n",
    " 如果字符串长度大等于3，添加 'ing' 到字符串的末尾\n",
    " 如果字符串是以 'ing' 结尾的，就在末尾添加 'ly'\n",
    "如果字符串长度小于3，返回原字符串"
   ]
  },
  {
   "cell_type": "code",
   "execution_count": null,
   "metadata": {
    "scrolled": true
   },
   "outputs": [],
   "source": [
    "a=input(\"输入一个字符串:\")\n",
    "if a.endswith(\"ing\"):\n",
    "    print(a+\"ly\")\n",
    "elif len(a)>=3: \n",
    "    print(a+\"ing\")\n",
    "else:\n",
    "     print(a)\n",
    "'''\n",
    "错误总结：\n",
    "1.选取输入值input\n",
    "2.查找字符串后缀endswith，对应查找前缀startswith\n",
    "3.判断语句的关系：if必判断，elif与if的互斥判断，前面判断满足后面不再判断，else所有都不满足时运行\n",
    "'''"
   ]
  },
  {
   "cell_type": "markdown",
   "metadata": {},
   "source": [
    "3.\n",
    "判断回文\n",
    " 输入一个数字，如果是回文数字，返回True，否则 返回False\n",
    "提示：回文：62426是回文数字"
   ]
  },
  {
   "cell_type": "code",
   "execution_count": null,
   "metadata": {
    "scrolled": true
   },
   "outputs": [],
   "source": [
    "b = input(\"输入一个数字:\")\n",
    "if (int(len(b)%2)==0) and b[0:int(len(b)/2)]==b[-1:int(-len(b)/2)-1:-1]:\n",
    "    print(\"TRUE\")\n",
    "elif b[0:int(len(b)/2)+1]==b[-1:int(-len(b)/2)-2:-1]:\n",
    "    print(\"TRUE\")\n",
    "else:\n",
    "    print(\"False\")\n",
    "   \n",
    "'''\n",
    "错误总结：\n",
    "1.运算逻辑：/为除（会把数据转为浮点数），//为整除向下取整，%为取余数\n",
    "2.len可以判断字符串字母个数和字典元素个数\n",
    "3.字典间隔不输入参数默认是1\n",
    "4.多个判断语句时，注意括号的使用\n",
    "方法1：为什么这个一运行就很慢？\n",
    "'''"
   ]
  },
  {
   "cell_type": "code",
   "execution_count": 24,
   "metadata": {},
   "outputs": [
    {
     "name": "stdout",
     "output_type": "stream",
     "text": [
      "输入一个数字:152\n",
      "False\n"
     ]
    }
   ],
   "source": [
    "b = input(\"输入一个数字:\")\n",
    "c = reversed(list(b))\n",
    "if list(c) == list(b):\n",
    "    print(\"TRUE\")\n",
    "else:\n",
    "    print(\"False\")\n",
    "'''\n",
    "错误总结：\n",
    "1.reversed返回的是对象，需要展示的话用list，顺序其自动可判断，不用加循环\n",
    " \n",
    "'''"
   ]
  },
  {
   "cell_type": "markdown",
   "metadata": {},
   "source": [
    "4.\n",
    "输入一个字符串，返回满足以下条件字符串\n",
    " 找到字符串中的子串 'not' 和 'bad’\n",
    "如果 'bad' 出现在 'not' 后面，就把 'not' ... 'bad' 之间包含的所有字符串替换成 'good'"
   ]
  },
  {
   "cell_type": "code",
   "execution_count": 27,
   "metadata": {
    "scrolled": true
   },
   "outputs": [
    {
     "name": "stdout",
     "output_type": "stream",
     "text": [
      "input a string:notsobad\n",
      "notgoodbad\n"
     ]
    },
    {
     "data": {
      "text/plain": [
       "'\\n错误总结：\\n1.index函数：返回字符串对应字符串首字母的开始索引\\n2.当有多个变量时，使用函数或者切片要指出对应的变量\\n3.括号的使用\\n\\n'"
      ]
     },
     "execution_count": 27,
     "metadata": {},
     "output_type": "execute_result"
    }
   ],
   "source": [
    "d = input(\"input a string:\")\n",
    "if (\"not\" in d) and (\"bad\" in d):\n",
    "    if (d.index(\"not\")+3) < d.index(\"bad\"):\n",
    "        sc=d.replace((d[(d.index(\"not\")+3):(d.index(\"bad\"))]),\"good\")\n",
    "        print(sc)\n",
    "else:\n",
    "    print(\"False\")\n",
    "'''\n",
    "错误总结：\n",
    "1.index函数：返回字符串对应字符串首字母的开始索引\n",
    "2.当有多个变量时，使用函数或者切片要指出对应的变量\n",
    "3.括号的使用\n",
    "\n",
    "'''"
   ]
  },
  {
   "cell_type": "markdown",
   "metadata": {},
   "source": [
    "5.\n",
    "输入一个字符串，把字符串拆分成两个等分\n",
    " 如果字符串长度是偶数，前一半和后一半的长度是相同的\n",
    " 如果字符串长度是奇数，则多出的一个字符加到前一半，如：'abcde'，前一半是'abc'，后一半是'de'"
   ]
  },
  {
   "cell_type": "code",
   "execution_count": 40,
   "metadata": {},
   "outputs": [
    {
     "name": "stdout",
     "output_type": "stream",
     "text": [
      "input a string:12345\n",
      "123 45\n"
     ]
    },
    {
     "data": {
      "text/plain": [
       "'\\n错误总结：\\n1.运算符号注意会转换成float\\n2.切片开始默认为0.结束默认为-1,但冒号不能省\\n\\n'"
      ]
     },
     "execution_count": 40,
     "metadata": {},
     "output_type": "execute_result"
    }
   ],
   "source": [
    "e = input(\"input a string:\")\n",
    "if int(len(e)%2)==0:\n",
    "    print(e[0:int(len(e)/2)],e[int(len(e)/2):])\n",
    "else:\n",
    "    print(e[0:int(len(e)/2)+1],e[int(len(e)/2)+1:])\n",
    "'''\n",
    "错误总结：\n",
    "1.运算符号注意会转换成float,对len都要转int\n",
    "2.切片开始默认为0.结束默认为-1,但冒号不能省\n",
    "\n",
    "'''"
   ]
  },
  {
   "cell_type": "markdown",
   "metadata": {},
   "source": [
    "6.\n",
    "输入一个字符串返回满足以下条件的字符串\n",
    " 找出与字符串的第一个字母相同的字母，把它们替换成 ''，除了第一个字母本身以外\n",
    " 例如: 输入'babble'， 返回 'ba*le’"
   ]
  },
  {
   "cell_type": "code",
   "execution_count": 51,
   "metadata": {},
   "outputs": [
    {
     "name": "stdout",
     "output_type": "stream",
     "text": [
      "input a string:diqwjdioqwud\n",
      "diqwj*ioqwu*\n"
     ]
    }
   ],
   "source": [
    "f = input(\"input a string:\")\n",
    "for i in range(1,int(len(f))):\n",
    "    if f[i]==f[0]:\n",
    "        sc=f[1:].replace(f[i],'*')\n",
    "        f1 = f[0]+ sc\n",
    "print(f1)\n",
    "'''\n",
    "错误总结：\n",
    "1.可以切片后再repalce\n",
    "2.后续接字符直接用+\n",
    "\n",
    "'''"
   ]
  },
  {
   "cell_type": "markdown",
   "metadata": {},
   "source": [
    "7.\n",
    "输入一个字符串,返回满足以下条件的字符串\n",
    " 由字符串的最前面两个字母和最后两个字母组成的字符串\n",
    " 例如： 'spring' 返回 'spng'， 'is' 返回 'is’\n",
    "当输入的字符串长度小于2时，返回空字符串\n"
   ]
  },
  {
   "cell_type": "code",
   "execution_count": 53,
   "metadata": {},
   "outputs": [
    {
     "name": "stdout",
     "output_type": "stream",
     "text": [
      "input a string:sping\n",
      "spng\n"
     ]
    }
   ],
   "source": [
    "g = input(\"input a string:\")\n",
    "if int(len(g))<2:\n",
    "    print(\"\")\n",
    "else:\n",
    "    print(g[:2]+g[-2:])"
   ]
  },
  {
   "cell_type": "markdown",
   "metadata": {},
   "source": [
    "8.\n",
    "落球计算\n",
    " 一球从100米高度自由落下，假设每次落地后反跳回原高度的一半；再落下，再弹起。请问第6次落地后会弹起多少米？\n",
    " 请分别使用for循环与while循环。并使用break与contiune流程控制关键字\n"
   ]
  },
  {
   "cell_type": "code",
   "execution_count": 58,
   "metadata": {},
   "outputs": [
    {
     "name": "stdout",
     "output_type": "stream",
     "text": [
      "height: 1.5625 times: 6\n"
     ]
    }
   ],
   "source": [
    "h=100\n",
    "t=0\n",
    "while h>10e-3:\n",
    "    t+=1\n",
    "    h/=2\n",
    "    if t==6:\n",
    "        break\n",
    "print('height:',h,'times:',t)\n",
    "#方法1"
   ]
  },
  {
   "cell_type": "code",
   "execution_count": 59,
   "metadata": {},
   "outputs": [
    {
     "name": "stdout",
     "output_type": "stream",
     "text": [
      "height: 1.5625 times: 6\n"
     ]
    }
   ],
   "source": [
    "h=100\n",
    "for t in range(100):\n",
    "    t+=1\n",
    "    h/=2\n",
    "    if t==6:\n",
    "        break\n",
    "print('height:',h,'times:',t)\n",
    "#方法2"
   ]
  },
  {
   "cell_type": "markdown",
   "metadata": {},
   "source": [
    "9.\n",
    "创建一个python文件，接收两个参数（均为数字）并找出两个数字间所有的素数（即只能被1和自己整除的数）\n",
    "运行这个文件，并检查结果\n"
   ]
  },
  {
   "cell_type": "code",
   "execution_count": null,
   "metadata": {},
   "outputs": [],
   "source": []
  }
 ],
 "metadata": {
  "kernelspec": {
   "display_name": "Python 3",
   "language": "python",
   "name": "python3"
  },
  "language_info": {
   "codemirror_mode": {
    "name": "ipython",
    "version": 3
   },
   "file_extension": ".py",
   "mimetype": "text/x-python",
   "name": "python",
   "nbconvert_exporter": "python",
   "pygments_lexer": "ipython3",
   "version": "3.7.3"
  }
 },
 "nbformat": 4,
 "nbformat_minor": 2
}
