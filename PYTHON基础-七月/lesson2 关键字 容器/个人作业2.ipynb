{
 "cells": [
  {
   "cell_type": "markdown",
   "metadata": {},
   "source": [
    "使用循环和列表推导找出单词长度大于某个数字的单词"
   ]
  },
  {
   "cell_type": "code",
   "execution_count": 30,
   "metadata": {
    "scrolled": true
   },
   "outputs": [
    {
     "name": "stdout",
     "output_type": "stream",
     "text": [
      "apple\n",
      "banana\n",
      "orange\n",
      "peach\n"
     ]
    },
    {
     "data": {
      "text/plain": [
       "'\\n错误总结：\\n1.循环语句中，不能直接是数字，可以是range，也可以是字典,若是字典则代表第N个值\\n2.使用空容器不断加数据\\n3.return通常用在函数中作为返回，识别到return后续不在进行\\n'"
      ]
     },
     "execution_count": 30,
     "metadata": {},
     "output_type": "execute_result"
    }
   ],
   "source": [
    "words = [\"apple\", \"banana\", \"orange\", \"peach\",\"kiwi\"]\n",
    "for i in range(4):\n",
    "    if len(words[i]) > 4:\n",
    "        print(words[i])\n",
    "# 自己做的\n",
    "'''\n",
    "错误总结：\n",
    "1.循环语句中，不能直接是数字，可以是range，也可以是字典,若是字典则代表第N个值\n",
    "2.使用空容器不断加数据\n",
    "3.return通常用在函数中作为返回，识别到return后续不在进行\n",
    "'''"
   ]
  },
  {
   "cell_type": "code",
   "execution_count": 31,
   "metadata": {},
   "outputs": [
    {
     "name": "stdout",
     "output_type": "stream",
     "text": [
      "['apple', 'banana', 'orange', 'peach']\n"
     ]
    }
   ],
   "source": [
    "words = [\"apple\", \"banana\", \"orange\", \"peach\",\"kiwi\"]\n",
    "bigthan=[] \n",
    "for i in words:\n",
    "    if len(i) > 4:\n",
    "        bigthan.append(i)\n",
    "print(bigthan)\n",
    "# 自己做的，加入容器后"
   ]
  },
  {
   "cell_type": "code",
   "execution_count": 32,
   "metadata": {},
   "outputs": [
    {
     "data": {
      "text/plain": [
       "['banana', 'orange']"
      ]
     },
     "execution_count": 32,
     "metadata": {},
     "output_type": "execute_result"
    }
   ],
   "source": [
    "words=['apple','banana','orange','peach','kiwi']\n",
    "def findlen(n):\n",
    "    bigthan=[]              #空容器\n",
    "    for i in words:         #words自动识别范围\n",
    "        if int(len(i))>n:\n",
    "            bigthan.append(i)\n",
    "    return bigthan\n",
    "findlen(5)\n",
    "# 答案"
   ]
  },
  {
   "cell_type": "markdown",
   "metadata": {},
   "source": [
    "寻找两个列表中的相同元素"
   ]
  },
  {
   "cell_type": "code",
   "execution_count": 34,
   "metadata": {},
   "outputs": [
    {
     "name": "stdout",
     "output_type": "stream",
     "text": [
      "2\n"
     ]
    }
   ],
   "source": [
    "l1=[1,2,5]\n",
    "l2=[6,2,7]\n",
    "for i in l1:\n",
    "    for j in l2:\n",
    "        if i==j:\n",
    "            print(i)\n",
    "# 自己做的"
   ]
  },
  {
   "cell_type": "code",
   "execution_count": 35,
   "metadata": {},
   "outputs": [
    {
     "name": "stdout",
     "output_type": "stream",
     "text": [
      "[(1, 6), (1, 2), (1, 7), (2, 6), (2, 2), (2, 7), (5, 6), (5, 2), (5, 7)]\n"
     ]
    },
    {
     "data": {
      "text/plain": [
       "[(2, 2)]"
      ]
     },
     "execution_count": 35,
     "metadata": {},
     "output_type": "execute_result"
    }
   ],
   "source": [
    "l1=[1,2,5];l2=[6,2,7]\n",
    "tup=[(i,j) for i in l1 for j in l2]  #把l1、l2的序列装进Tuple\n",
    "[k for k in tup if k[0]==k[1]]\n",
    "# 答案"
   ]
  },
  {
   "cell_type": "markdown",
   "metadata": {},
   "source": [
    "去除一个列表中相邻且重复的元素。"
   ]
  },
  {
   "cell_type": "code",
   "execution_count": 56,
   "metadata": {},
   "outputs": [
    {
     "name": "stdout",
     "output_type": "stream",
     "text": [
      "[1, 2, 3, 4, 5, 6, 8, 12, 13]\n"
     ]
    },
    {
     "data": {
      "text/plain": [
       "'\\n错误总结：\\n删除：1.remove（k）删除为k的元素 2.del(0)按位删除，位置第0个元素 3.pop(0)按位删除并返回\\n容器：初始化时用[]\\n'"
      ]
     },
     "execution_count": 56,
     "metadata": {},
     "output_type": "execute_result"
    }
   ],
   "source": [
    "l1=[1,2,3,4,4,4,4,4,4,5,6,6,8,8,12,12,12,12,13]\n",
    "l2=[l1[0]]\n",
    "for i in range(1,len(l1)):\n",
    "    if l1[i] != l1[i-1] :\n",
    "        l2.append(l1[i])\n",
    "print(l2)\n",
    "'''\n",
    "错误总结：\n",
    "删除：1.remove（k）删除为k的元素 2.del(0)按位删除，位置第0个元素 3.pop(0)按位删除并返回\n",
    "容器：初始化时外框用[]\n",
    "'''"
   ]
  },
  {
   "cell_type": "markdown",
   "metadata": {},
   "source": [
    "用户名密码对应\n",
    " 给定两个列表，一个存放用户名，一个存放密码。请将用户名和密码按顺序进行对应为一个元素。"
   ]
  },
  {
   "cell_type": "code",
   "execution_count": 63,
   "metadata": {},
   "outputs": [
    {
     "name": "stdout",
     "output_type": "stream",
     "text": [
      "{'jack': '123', 'bob': '859', 'john': 'hello'}\n"
     ]
    }
   ],
   "source": [
    "Username=['jack', 'bob' , 'john']\n",
    "Password=['123', '859' , 'hello']\n",
    "pair=dict(zip(Username,Password))\n",
    "print(pair)"
   ]
  },
  {
   "cell_type": "markdown",
   "metadata": {},
   "source": [
    "使用列表推导式，打印出颜色与尺寸的（组合）"
   ]
  },
  {
   "cell_type": "code",
   "execution_count": 77,
   "metadata": {
    "scrolled": true
   },
   "outputs": [
    {
     "data": {
      "text/plain": [
       "{('black', 'L'),\n",
       " ('black', 'M'),\n",
       " ('black', 'S'),\n",
       " ('white', 'L'),\n",
       " ('white', 'M'),\n",
       " ('white', 'S')}"
      ]
     },
     "execution_count": 77,
     "metadata": {},
     "output_type": "execute_result"
    }
   ],
   "source": [
    "colors=['black','white']\n",
    "sizes=['S','M','L']\n",
    "{(i,j) for i in colors for j in sizes}"
   ]
  },
  {
   "cell_type": "markdown",
   "metadata": {},
   "source": [
    "词频统计\n",
    "l1=['sklearn','AI','julyedu.com','Caffe','AI','sklearn‘] \n",
    "对l1包含的单词，利用dict统计词频\n",
    "对每个参数进行判断，若在则对应的value+1\n",
    "否则根据该字符创建一个key并且value设置为1\n",
    "最后输出该词典"
   ]
  },
  {
   "cell_type": "code",
   "execution_count": 10,
   "metadata": {},
   "outputs": [
    {
     "name": "stdout",
     "output_type": "stream",
     "text": [
      "{'sklearn': 2, 'AI': 2, 'julyedu.com': 1, 'Caffe': 1}\n"
     ]
    },
    {
     "data": {
      "text/plain": [
       "'\\n错误总结：\\n1.建立新字典dict.fromkeys(seq[, value])\\n'"
      ]
     },
     "execution_count": 10,
     "metadata": {},
     "output_type": "execute_result"
    }
   ],
   "source": [
    "l1=['sklearn','AI','julyedu.com','Caffe','AI','sklearn']\n",
    "base={}.fromkeys(l1,0)\n",
    "for item in l1:\n",
    "    base[item]+=1\n",
    "print(base)\n",
    "\n",
    "# 答案，循环自动对value+1？\n",
    "'''\n",
    "错误总结：\n",
    "1.建立新字典dict.fromkeys(seq[, value])\n",
    "'''"
   ]
  },
  {
   "cell_type": "markdown",
   "metadata": {},
   "source": [
    "实现行列互转"
   ]
  },
  {
   "cell_type": "code",
   "execution_count": 17,
   "metadata": {
    "scrolled": true
   },
   "outputs": [
    {
     "data": {
      "text/plain": [
       "array([[ 1,  4,  7, 10],\n",
       "       [ 2,  5,  8, 11],\n",
       "       [ 3,  6,  9, 12]])"
      ]
     },
     "execution_count": 17,
     "metadata": {},
     "output_type": "execute_result"
    }
   ],
   "source": [
    "arr= [[1, 2, 3], [4, 5, 6], [7,8, 9], [10, 11, 12]]\n",
    "import numpy as np\n",
    "array = np.array(arr)\n",
    "array.T"
   ]
  },
  {
   "cell_type": "markdown",
   "metadata": {},
   "source": [
    "实现求指定长度的Fibonacci 数列\n",
    "Fib数组初始为[0,1]\n",
    "分别要求使用循环和数组实现"
   ]
  },
  {
   "cell_type": "code",
   "execution_count": 22,
   "metadata": {},
   "outputs": [
    {
     "data": {
      "text/plain": [
       "[0, 1, 1, 2, 3, 5, 8, 13, 21, 34]"
      ]
     },
     "execution_count": 22,
     "metadata": {},
     "output_type": "execute_result"
    }
   ],
   "source": [
    "F = [0,1]\n",
    "def Fibonacci(n):\n",
    "    if n == 0:\n",
    "        print([0])\n",
    "    elif n == 1:\n",
    "        print([0,1])\n",
    "    else:\n",
    "        for i in range(2,n):\n",
    "            j = F[i-1] + F[i-2]\n",
    "            F.append(j)\n",
    "        return(F)\n",
    "Fibonacci(10)"
   ]
  },
  {
   "cell_type": "markdown",
   "metadata": {},
   "source": [
    "[ ]对应检查\n",
    " 输入含有[]的字符串，输出对中括号出现规则的检测结果\n",
    "[] OK ][ NOT OK\n",
    "\n",
    "\n",
    "[][] OK ][][ NOT OK\n",
    "\n",
    "\n",
    "[[][]] OK []][[] NOT OK\n",
    "\n",
    "\n",
    "[[][[]]] OK ][]][[][ NOT OK\n"
   ]
  },
  {
   "cell_type": "code",
   "execution_count": null,
   "metadata": {},
   "outputs": [],
   "source": []
  }
 ],
 "metadata": {
  "kernelspec": {
   "display_name": "Python 3",
   "language": "python",
   "name": "python3"
  },
  "language_info": {
   "codemirror_mode": {
    "name": "ipython",
    "version": 3
   },
   "file_extension": ".py",
   "mimetype": "text/x-python",
   "name": "python",
   "nbconvert_exporter": "python",
   "pygments_lexer": "ipython3",
   "version": "3.7.3"
  }
 },
 "nbformat": 4,
 "nbformat_minor": 2
}
